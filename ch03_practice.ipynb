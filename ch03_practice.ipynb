{
 "cells": [
  {
   "cell_type": "markdown",
   "metadata": {},
   "source": [
    "# 3장 연습문제 조건문"
   ]
  },
  {
   "cell_type": "code",
   "execution_count": 1,
   "metadata": {},
   "outputs": [
    {
     "ename": "SyntaxError",
     "evalue": "invalid syntax (<ipython-input-1-307b9db61402>, line 8)",
     "output_type": "error",
     "traceback": [
      "\u001b[1;36m  File \u001b[1;32m\"<ipython-input-1-307b9db61402>\"\u001b[1;36m, line \u001b[1;32m8\u001b[0m\n\u001b[1;33m    a! =2\u001b[0m\n\u001b[1;37m     ^\u001b[0m\n\u001b[1;31mSyntaxError\u001b[0m\u001b[1;31m:\u001b[0m invalid syntax\n"
     ]
    }
   ],
   "source": [
    "#1 변수 a,b,c의 값에 따라 연산의 결과가 참이면 True, 거짓이면 False를 빈칸에 적으시오.\n",
    "\"\"\"\n",
    "False False False\n",
    "True  False False\n",
    "True  False True\n",
    "\"\"\"\n"
   ]
  },
  {
   "cell_type": "code",
   "execution_count": null,
   "metadata": {},
   "outputs": [],
   "source": [
    "#2\n",
    "\"\"\"\n",
    "False True\n",
    "True  False\n",
    "False True\n",
    "\"\"\""
   ]
  },
  {
   "cell_type": "code",
   "execution_count": 2,
   "metadata": {},
   "outputs": [
    {
     "name": "stdout",
     "output_type": "stream",
     "text": [
      "4\n"
     ]
    }
   ],
   "source": [
    "#3 다음 프로그램의 실행 결과는?\n",
    "\n",
    "a = 2\n",
    "z = a * 5\n",
    "w = (z-3) * (a-2) / 7 + 10\n",
    "\n",
    "if a > z or w > a :\n",
    "    y = 2*a\n",
    "else :\n",
    "    y = 4*a\n",
    "    \n",
    "print(y)"
   ]
  },
  {
   "cell_type": "code",
   "execution_count": 31,
   "metadata": {},
   "outputs": [
    {
     "name": "stdout",
     "output_type": "stream",
     "text": [
      "단위를 입력하세요(1:섭씨, 2:화씨): 1\n",
      "온도를 입력하세요: 15\n",
      "물의 섭씨 온도: 59.00, 상태 : 액체\n"
     ]
    }
   ],
   "source": [
    "#4 물의 섭씨 또는 화씨 온도를 입력받아 섭씨 온도와 물의 상태를 판별하는 프로그램 작성\n",
    "# 힌트 : 섭씨 = (화씨 - 32) * 5 / 9\n",
    "# 실행 결과\n",
    "# 단위를 입력하세요(1:섭씨, 2:화씨):2\n",
    "# 온도를 입력하세요: 80\n",
    "# 물의 섭씨 온도 : 26.67, 상태 : 액체\n",
    "\n",
    "\n",
    "unit = input('단위를 입력하세요(1:섭씨, 2:화씨): ')\n",
    "temp = int(input('온도를 입력하세요: '))\n",
    "\n",
    "if unit == '2':\n",
    "    c = (temp - 32) * 5 / 9\n",
    "    temp = c\n",
    "else:\n",
    "    f = temp * 1.8 + 32\n",
    "    temp = f\n",
    "\n",
    "if temp <100:\n",
    "    stat = '액체'\n",
    "elif temp <0:\n",
    "    stat = '고체'\n",
    "else:\n",
    "    stat = '기체'\n",
    "\n",
    "print('물의 섭씨 온도: %.2f, 상태 : %s' %(temp, stat))"
   ]
  },
  {
   "cell_type": "code",
   "execution_count": 9,
   "metadata": {},
   "outputs": [
    {
     "name": "stdout",
     "output_type": "stream",
     "text": [
      "아이디를 입력하세요 : amind\n",
      "회원 레벨을 입력하세요 : 3\n",
      "일부 콘텐츠 이용 가능\n"
     ]
    }
   ],
   "source": [
    "#5 아이디를 입력받아 아이디가 'admin'이면 '모든 컨텐츠 이용 가능' 출력, 프로그램을 종료\n",
    "#  아이디가 'admin'이 아니면 회원레벨을 입력받아 회원 레벨이 2~7 이면 '일부 콘텐츠 이용 가능'\n",
    "#  을 출력하고, 그렇지 않으면 '콘텐츠 이용 불가'를 출력하는 프로그램을 작성하시오\n",
    "\n",
    "id = input('아이디를 입력하세요 : ')\n",
    "level = int(input('회원 레벨을 입력하세요 : '))\n",
    "\n",
    "if id == 'admin':\n",
    "    print('모든 콘텐츠 이용 가능')\n",
    "elif level >=2 and level <=7 :\n",
    "    print ('일부 콘텐츠 이용 가능')\n",
    "else :\n",
    "    print('콘텐츠 이용 불가')"
   ]
  },
  {
   "cell_type": "code",
   "execution_count": 21,
   "metadata": {},
   "outputs": [
    {
     "name": "stdout",
     "output_type": "stream",
     "text": [
      "나이를 입력하세요 : 20\n",
      "입장료 : 2000원\n"
     ]
    }
   ],
   "source": [
    "#6 나이를 입력받아 입장료 계산하는 프로그램\n",
    "# 10세 이하는 1000원, 65세 이상의 입장료는 0원, 기본 입장료는 2000원\n",
    "age = int(input('나이를 입력하세요 : '))\n",
    "pay = '2000원'\n",
    "\n",
    "if age >= 65 :\n",
    "    pay = '무료'\n",
    "    \n",
    "if age <= 10 :\n",
    "    pay = '1000원'\n",
    "    \n",
    "print('입장료 : %s' % pay)"
   ]
  },
  {
   "cell_type": "code",
   "execution_count": 25,
   "metadata": {},
   "outputs": [
    {
     "name": "stdout",
     "output_type": "stream",
     "text": [
      "영어시험 점수를 입력하세요 : 85\n",
      "수학시험 점수를 입력하세요 : 75\n",
      "재시험 기회 제공\n"
     ]
    }
   ],
   "source": [
    "#7 영어와 수학이 모두 80점 이상이면 '합격'\n",
    "#  영어와 수학이 모두 80점 미만이면 '불합격'\n",
    "#  두 시험 중 한 과목이 80점 이상이면 '재시험 기회제공'의 메시지를 출력하는 프로그램\n",
    "\n",
    "eng = int(input('영어시험 점수를 입력하세요 : '))\n",
    "math = int(input('수학시험 점수를 입력하세요 : '))\n",
    "\n",
    "if eng >= 80 and math >= 80 :\n",
    "    print('합격')\n",
    "if eng < 80 and math < 80 :\n",
    "    print('불합격')\n",
    "elif eng < 80 or math < 80 :\n",
    "    print('재시험 기회 제공')"
   ]
  }
 ],
 "metadata": {
  "kernelspec": {
   "display_name": "Python 3",
   "language": "python",
   "name": "python3"
  },
  "language_info": {
   "codemirror_mode": {
    "name": "ipython",
    "version": 3
   },
   "file_extension": ".py",
   "mimetype": "text/x-python",
   "name": "python",
   "nbconvert_exporter": "python",
   "pygments_lexer": "ipython3",
   "version": "3.7.6"
  }
 },
 "nbformat": 4,
 "nbformat_minor": 4
}
