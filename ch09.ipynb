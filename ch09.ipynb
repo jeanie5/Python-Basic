{
 "cells": [
  {
   "cell_type": "markdown",
   "metadata": {},
   "source": [
    "# Chapter 09. 객체지향 프로그래밍"
   ]
  },
  {
   "cell_type": "code",
   "execution_count": 2,
   "metadata": {},
   "outputs": [
    {
     "name": "stdout",
     "output_type": "stream",
     "text": [
      "10 + 20 = 30\n",
      "100 + 200 = 300\n"
     ]
    }
   ],
   "source": [
    "# 예제 9-1\n",
    "class Calculator :\n",
    "    def set(self,x,y) :\n",
    "        self.first = x\n",
    "        self.second = y\n",
    "        \n",
    "    def add(self) :\n",
    "        result = self.first + self.second\n",
    "        return result\n",
    "    \n",
    "cal1 = Calculator()\n",
    "\n",
    "cal1.set(10,20)\n",
    "print('%d + %d = %d' % (cal1.first, cal1.second, cal1.add()))\n",
    "cal1.set(100,200)\n",
    "print('%d + %d = %d' % (cal1.first, cal1.second, cal1.add()))"
   ]
  },
  {
   "cell_type": "code",
   "execution_count": 1,
   "metadata": {},
   "outputs": [
    {
     "name": "stdout",
     "output_type": "stream",
     "text": [
      "이름 : 홍지수\n",
      "나이 : 24\n",
      "이름 : 안지영\n",
      "나이 : 20\n"
     ]
    }
   ],
   "source": [
    "# 예제 9-2\n",
    "class Member :\n",
    "    def __init__(self, name, age):\n",
    "        self.name = name\n",
    "        self.age = age\n",
    "        \n",
    "    def showMember(self) :\n",
    "        print('이름 : %s' % self.name)\n",
    "        print('나이 : %d' % self.age)\n",
    "        \n",
    "mem1 = Member('홍지수', 24)\n",
    "mem1.showMember()\n",
    "mem2 = Member('안지영', 20)\n",
    "mem2.showMember()"
   ]
  }
 ],
 "metadata": {
  "kernelspec": {
   "display_name": "Python 3",
   "language": "python",
   "name": "python3"
  },
  "language_info": {
   "codemirror_mode": {
    "name": "ipython",
    "version": 3
   },
   "file_extension": ".py",
   "mimetype": "text/x-python",
   "name": "python",
   "nbconvert_exporter": "python",
   "pygments_lexer": "ipython3",
   "version": "3.7.6"
  }
 },
 "nbformat": 4,
 "nbformat_minor": 4
}
