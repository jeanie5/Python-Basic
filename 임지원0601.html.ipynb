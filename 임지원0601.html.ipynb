{
 "cells": [
  {
   "cell_type": "markdown",
   "metadata": {},
   "source": [
    "# 4장 연습문제 반복문"
   ]
  },
  {
   "cell_type": "code",
   "execution_count": 3,
   "metadata": {},
   "outputs": [
    {
     "name": "stdout",
     "output_type": "stream",
     "text": [
      "* * * * * * * * * * \n",
      "* * * * * * * * * * \n",
      "* * * * * * * * * * \n",
      "* * * * * * * * * * \n",
      "* * * * * * * * * * \n"
     ]
    }
   ],
   "source": [
    "#1\n",
    "for i in range (1, 6) :\n",
    "    print ('* ' * 10)\n",
    "    "
   ]
  },
  {
   "cell_type": "code",
   "execution_count": 7,
   "metadata": {},
   "outputs": [
    {
     "name": "stdout",
     "output_type": "stream",
     "text": [
      "* * * * * * * * * * \n",
      "* * * * * * * * * * \n",
      "* * * * * * * * * * \n",
      "* * * * * * * * * * \n",
      "* * * * * * * * * * \n"
     ]
    }
   ],
   "source": [
    "#2\n",
    "i = 0\n",
    "\n",
    "while i <= 4 :\n",
    "    print ('* ' * 10)\n",
    "    \n",
    "    i += 1"
   ]
  },
  {
   "cell_type": "code",
   "execution_count": 30,
   "metadata": {},
   "outputs": [
    {
     "name": "stdout",
     "output_type": "stream",
     "text": [
      "6 6 6 6 6 6 \n",
      "5 5 5 5 5 \n",
      "4 4 4 4 \n",
      "3 3 3 \n",
      "2 2 \n",
      "1 \n"
     ]
    }
   ],
   "source": [
    "#3\n",
    "for i in range (6, 0, -1) :\n",
    "    for j in range (1, 8-i) :\n",
    "        print('', end = '')\n",
    "    for k in range (1, i+1) :\n",
    "        print('%d '%i,  end = '')\n",
    "    print()\n"
   ]
  },
  {
   "cell_type": "code",
   "execution_count": 18,
   "metadata": {},
   "outputs": [
    {
     "name": "stdout",
     "output_type": "stream",
     "text": [
      "0 \n",
      "0 1 \n",
      "0 1 2 \n",
      "0 1 2 3 \n",
      "0 1 2 3 4 \n",
      "0 1 2 3 4 5 \n"
     ]
    }
   ],
   "source": [
    "#4\n",
    "\n",
    "for i in range(0, 6):\n",
    "    for j in range(0, i+1):\n",
    "        print(j, end=' ')\n",
    "    print()"
   ]
  },
  {
   "cell_type": "code",
   "execution_count": 19,
   "metadata": {},
   "outputs": [
    {
     "name": "stdout",
     "output_type": "stream",
     "text": [
      "* * * * * * * * \n",
      "*             * \n",
      "*             * \n",
      "*             * \n",
      "*             * \n",
      "*             * \n",
      "*             * \n",
      "* * * * * * * * \n"
     ]
    }
   ],
   "source": [
    "#5\n",
    "n = 8\n",
    "\n",
    "for i in range(n):\n",
    "    if i == 0 or i == n-1:\n",
    "        for j in range(n):\n",
    "            print('*', end=' ')\n",
    "    else:\n",
    "        print('*', end=' ')\n",
    "        for j in range(n-2):\n",
    "            print(' ', end=' ')\n",
    "        print('*', end=' ')\n",
    "    print()"
   ]
  },
  {
   "cell_type": "code",
   "execution_count": 20,
   "metadata": {},
   "outputs": [
    {
     "name": "stdout",
     "output_type": "stream",
     "text": [
      "1 + 3 + 5 + 7 + 9 + 11 + 13 + 15 + 17 + 19 + 21 + 23 + 25 + 27 + 29 + 31 + 33 + 35 + 37 + 39 + 41 + 43 + 45 + 47 + 49 + 51 + 53 + 55 + 57 + 59 + 61 + 63 + 65 + 67 + 69 + 71 + 73 + 75 + 77 + 79 + 81 + 83 + 85 + 87 + 89 + 91 + 93 + 95 + 97 + 99 = 2500\n"
     ]
    }
   ],
   "source": [
    "#6\n",
    "sum = 0\n",
    "for i in range(1, 100, 2):\n",
    "    if(i == 99):\n",
    "        print(i, end=\" = \" )\n",
    "        sum += i\n",
    "        break\n",
    "        \n",
    "    print(i, end=\" + \")\n",
    "    sum += i\n",
    "print(sum)"
   ]
  },
  {
   "cell_type": "code",
   "execution_count": 21,
   "metadata": {},
   "outputs": [
    {
     "name": "stdout",
     "output_type": "stream",
     "text": [
      "N의 값을 입력하세요 : 12\n",
      "N의 값 : 12\n",
      "합계 : 744010475682\n"
     ]
    }
   ],
   "source": [
    "#7\n",
    "N = int(input(\"N의 값을 입력하세요 : \"))\n",
    "print('N의 값 : %d' %N)\n",
    "sum = 0\n",
    "\n",
    "for i in range(2, N+1, 2):\n",
    "    result = i ** (i-1)\n",
    "    sum += result\n",
    "    \n",
    "print('합계 : %d' %sum)"
   ]
  },
  {
   "cell_type": "code",
   "execution_count": 1,
   "metadata": {},
   "outputs": [
    {
     "name": "stdout",
     "output_type": "stream",
     "text": [
      "N의 값을 입력하세요 : 200\n",
      "2 3 5 7 11 13 17 19 23 29 31 37 41 43 47 53 59 61 67 71 73 79 83 89 97 101 103 107 109 113 127 131 137 139 149 151 157 163 167 173 179 181 191 193 197 199 "
     ]
    }
   ],
   "source": [
    "#8\n",
    "n = int(input(\"N의 값을 입력하세요 : \"))\n",
    "\n",
    "for i in range(2, n):\n",
    "    ch = True\n",
    "    for j in range(2, i):\n",
    "        if i % j == 0:\n",
    "            ch = False\n",
    "            break\n",
    "    if ch:\n",
    "        print(i, end=' ')\n"
   ]
  },
  {
   "cell_type": "code",
   "execution_count": 4,
   "metadata": {},
   "outputs": [
    {
     "name": "stdout",
     "output_type": "stream",
     "text": [
      "--------------------------------------------------\n",
      "달러($)      원화(원)      유로(€)\n",
      "--------------------------------------------------\n",
      "10           10800           8.1\n",
      "20           21600          16.2\n",
      "30           32400          24.3\n",
      "40           43200          32.4\n",
      "50           54000          40.5\n",
      "60           64800          48.6\n",
      "70           75600          56.7\n",
      "80           86400          64.8\n",
      "90           97200          72.9\n",
      "100          108000          81.0\n",
      "--------------------------------------------------\n"
     ]
    }
   ],
   "source": [
    "#9\n",
    "print('-'*50)\n",
    "print(\"%s %10s %10s\"%(\"달러($)\",\"원화(원)\",\"유로(€)\"))\n",
    "print('-'*50)\n",
    "\n",
    "for i in range(10, 101, 10):\n",
    "    won = i * 1080\n",
    "    eur = i * 0.81\n",
    "    print(\"%d %15d %13.1f\"%(i, won, eur))\n",
    "print('-'*50)"
   ]
  },
  {
   "cell_type": "code",
   "execution_count": 12,
   "metadata": {},
   "outputs": [
    {
     "name": "stdout",
     "output_type": "stream",
     "text": [
      "--------------------------------------------------\n",
      "cm         mm          m       inch\n",
      "--------------------------------------------------\n",
      "1         10         0.01      0.39\n",
      "2         20         0.02      0.79\n",
      "3         30         0.03      1.18\n",
      "4         40         0.04      1.57\n",
      "5         50         0.05      1.97\n",
      "6         60         0.06      2.36\n",
      "7         70         0.07      2.76\n",
      "8         80         0.08      3.15\n",
      "9         90         0.09      3.54\n",
      "10        100         0.10      3.94\n",
      "11        110         0.11      4.33\n",
      "12        120         0.12      4.72\n",
      "13        130         0.13      5.12\n",
      "14        140         0.14      5.51\n",
      "15        150         0.15      5.91\n",
      "16        160         0.16      6.30\n",
      "17        170         0.17      6.69\n",
      "18        180         0.18      7.09\n",
      "19        190         0.19      7.48\n",
      "20        200         0.20      7.87\n",
      "21        210         0.21      8.27\n",
      "22        220         0.22      8.66\n",
      "23        230         0.23      9.06\n",
      "24        240         0.24      9.45\n",
      "25        250         0.25      9.84\n",
      "26        260         0.26     10.24\n",
      "27        270         0.27     10.63\n",
      "28        280         0.28     11.02\n",
      "29        290         0.29     11.42\n",
      "30        300         0.30     11.81\n",
      "31        310         0.31     12.20\n",
      "32        320         0.32     12.60\n",
      "33        330         0.33     12.99\n",
      "34        340         0.34     13.39\n",
      "35        350         0.35     13.78\n",
      "36        360         0.36     14.17\n",
      "37        370         0.37     14.57\n",
      "38        380         0.38     14.96\n",
      "39        390         0.39     15.35\n",
      "40        400         0.40     15.75\n",
      "41        410         0.41     16.14\n",
      "42        420         0.42     16.54\n",
      "43        430         0.43     16.93\n",
      "44        440         0.44     17.32\n",
      "45        450         0.45     17.72\n",
      "46        460         0.46     18.11\n",
      "47        470         0.47     18.50\n",
      "48        480         0.48     18.90\n",
      "49        490         0.49     19.29\n",
      "50        500         0.50     19.68\n",
      "51        510         0.51     20.08\n",
      "52        520         0.52     20.47\n",
      "53        530         0.53     20.87\n",
      "54        540         0.54     21.26\n",
      "55        550         0.55     21.65\n",
      "56        560         0.56     22.05\n",
      "57        570         0.57     22.44\n",
      "58        580         0.58     22.83\n",
      "59        590         0.59     23.23\n",
      "60        600         0.60     23.62\n",
      "61        610         0.61     24.02\n",
      "62        620         0.62     24.41\n",
      "63        630         0.63     24.80\n",
      "64        640         0.64     25.20\n",
      "65        650         0.65     25.59\n",
      "66        660         0.66     25.98\n",
      "67        670         0.67     26.38\n",
      "68        680         0.68     26.77\n",
      "69        690         0.69     27.17\n",
      "70        700         0.70     27.56\n",
      "71        710         0.71     27.95\n",
      "72        720         0.72     28.35\n",
      "73        730         0.73     28.74\n",
      "74        740         0.74     29.13\n",
      "75        750         0.75     29.53\n",
      "76        760         0.76     29.92\n",
      "77        770         0.77     30.31\n",
      "78        780         0.78     30.71\n",
      "79        790         0.79     31.10\n",
      "80        800         0.80     31.50\n",
      "81        810         0.81     31.89\n",
      "82        820         0.82     32.28\n",
      "83        830         0.83     32.68\n",
      "84        840         0.84     33.07\n",
      "85        850         0.85     33.46\n",
      "86        860         0.86     33.86\n",
      "87        870         0.87     34.25\n",
      "88        880         0.88     34.65\n",
      "89        890         0.89     35.04\n",
      "90        900         0.90     35.43\n",
      "91        910         0.91     35.83\n",
      "92        920         0.92     36.22\n",
      "93        930         0.93     36.61\n",
      "94        940         0.94     37.01\n",
      "95        950         0.95     37.40\n",
      "96        960         0.96     37.80\n",
      "97        970         0.97     38.19\n",
      "98        980         0.98     38.58\n",
      "99        990         0.99     38.98\n",
      "--------------------------------------------------\n"
     ]
    }
   ],
   "source": [
    "#10\n",
    "i = 1\n",
    "\n",
    "print('-'*50)\n",
    "print(\"%s %10s %10s %10s\"%(\"cm\",\"mm\",\"m\",\"inch\"))\n",
    "print('-'*50)\n",
    "\n",
    "while i < 100:\n",
    "    mm = i * 10\n",
    "    m = i / 100\n",
    "    inch = i * 0.3937\n",
    "\n",
    "    print(\"%d %10d %12.2f %9.2f\"%(i, mm, m, inch))\n",
    "    i += 1\n",
    "    \n",
    "print('-'*50)"
   ]
  },
  {
   "cell_type": "markdown",
   "metadata": {},
   "source": [
    "# 5 연습문제 리스트\n"
   ]
  },
  {
   "cell_type": "code",
   "execution_count": 6,
   "metadata": {},
   "outputs": [
    {
     "name": "stdout",
     "output_type": "stream",
     "text": [
      "가장 큰 수 :  10\n"
     ]
    }
   ],
   "source": [
    "#1\n",
    "# data = [-12,3,-9,5,8,-2,0,-8,3,10]\n",
    "# for문을 이용해 가장 큰 수를 찾는 프로그램\n",
    "\n",
    "list = [-12,3,-9,5,8,-2,0,-8,3,10]\n",
    "\n",
    "\n",
    "list.sort(reverse = True)\n",
    "\n",
    "print ('가장 큰 수 : ' ,list[0])"
   ]
  },
  {
   "cell_type": "code",
   "execution_count": 7,
   "metadata": {},
   "outputs": [],
   "source": [
    "#2\n",
    "#while 문을 이용하여 짝수 번째 요소들의 합과 평균을 구하는 프로그램\n",
    "sum = 0\n",
    "i = 0\n",
    "count = 0\n",
    "\n",
    "while i != len(data):\n",
    "    if i % 2 != 0:\n",
    "        sum += data[i]\n",
    "        i += 1\n",
    "        count += 1\n",
    "        continue\n",
    "    i += 1\n",
    "\n",
    "average = sum / count\n",
    "print(\"합계 : %d, 평균 : %.2f\" %(sum, average))\n"
   ]
  },
  {
   "cell_type": "code",
   "execution_count": 15,
   "metadata": {},
   "outputs": [
    {
     "name": "stdout",
     "output_type": "stream",
     "text": [
      "10 8 5 3 3 0 -2 -8 -9 -12\n"
     ]
    }
   ],
   "source": [
    "#3\n",
    "list = [-12,3,-9,5,8,-2,0,-8,3,10]\n",
    "\n",
    "\n",
    "list.sort(reverse = True)\n",
    "\n",
    "print (list[0],list[1],list[2],list[3],list[4],list[5],list[6],list[7],list[8],list[9])"
   ]
  },
  {
   "cell_type": "code",
   "execution_count": 17,
   "metadata": {},
   "outputs": [
    {
     "name": "stdout",
     "output_type": "stream",
     "text": [
      "[-12, 3, -9, 100, 5, 8, -2, 0, -8, 3, 10]\n"
     ]
    }
   ],
   "source": [
    "#4\n",
    "list = [-12,3,-9,5,8,-2,0,-8,3,10]\n",
    "list.insert(3, 100)\n",
    "print(list)"
   ]
  },
  {
   "cell_type": "code",
   "execution_count": 19,
   "metadata": {},
   "outputs": [
    {
     "name": "stdout",
     "output_type": "stream",
     "text": [
      "[3, -9, 5, 8, -2, 0, -8, 3, 10]\n"
     ]
    }
   ],
   "source": [
    "#5\n",
    "list = [-12,3,-9,5,8,-2,0,-8,3,10]\n",
    "list.remove(-12)\n",
    "print(list)"
   ]
  },
  {
   "cell_type": "code",
   "execution_count": 21,
   "metadata": {},
   "outputs": [
    {
     "name": "stdout",
     "output_type": "stream",
     "text": [
      "흑돌의 개수 : 17\n",
      "백돌의 개수 : 16\n"
     ]
    }
   ],
   "source": [
    "#6\n",
    "stone = [[0, 0, 0, 0, 0, 0, 0, 0, 0 ],\n",
    "         [0, 1, 0, 1, 2, 1, 2, 1, 0 ],\n",
    "         [0, 2, 1, 1, 1, 2, 2, 0, 0 ],\n",
    "         [0, 0, 2, 2, 2, 1, 0, 2, 0 ],\n",
    "         [0, 0, 0, 0, 0, 1, 0, 2, 1 ],\n",
    "         [0, 0, 0, 2, 0, 1, 2, 1, 0 ],\n",
    "         [0, 0, 0, 2, 1, 0, 1, 1, 0 ],\n",
    "         [0, 0, 0, 1, 1, 0, 0, 0, 0 ],\n",
    "         [0, 0, 0, 0, 2, 2, 2, 0, 0 ]]\n",
    "\n",
    "white = 0\n",
    "black = 0\n",
    "\n",
    "for i in range(len(stone)):\n",
    "    for j in range(len(stone[i])):\n",
    "        if stone[i][j] == 1:\n",
    "            black += 1\n",
    "        if stone[i][j] == 2:\n",
    "            white += 1\n",
    "            \n",
    "print(\"흑돌의 개수 : %d\" %black)\n",
    "print(\"백돌의 개수 : %d\" %white)"
   ]
  },
  {
   "cell_type": "code",
   "execution_count": 26,
   "metadata": {},
   "outputs": [
    {
     "name": "stdout",
     "output_type": "stream",
     "text": [
      "X X X X X X X X X \n",
      "X ● X ● ○ ● ○ ● X \n",
      "X ○ ● ● ● ○ ○ X X \n",
      "X X ○ ○ ○ ● X ○ X \n",
      "X X X X X ● X ○ ● \n",
      "X X X ○ X ● ○ ● X \n",
      "X X X ○ ● X ● ● X \n",
      "X X X ● ● X X X X \n",
      "X X X X ○ ○ ○ X X \n"
     ]
    }
   ],
   "source": [
    "#7\n",
    "stone = [[0, 0, 0, 0, 0, 0, 0, 0, 0 ],\n",
    "         [0, 1, 0, 1, 2, 1, 2, 1, 0 ],\n",
    "         [0, 2, 1, 1, 1, 2, 2, 0, 0 ],\n",
    "         [0, 0, 2, 2, 2, 1, 0, 2, 0 ],\n",
    "         [0, 0, 0, 0, 0, 1, 0, 2, 1 ],\n",
    "         [0, 0, 0, 2, 0, 1, 2, 1, 0 ],\n",
    "         [0, 0, 0, 2, 1, 0, 1, 1, 0 ],\n",
    "         [0, 0, 0, 1, 1, 0, 0, 0, 0 ],\n",
    "         [0, 0, 0, 0, 2, 2, 2, 0, 0 ]]\n",
    "\n",
    "for i in range(len(stone)):\n",
    "    for j in range(len(stone[i])):\n",
    "        if stone[i][j] == 1:\n",
    "            stone[i][j] = \"●\"\n",
    "        elif stone[i][j] == 2:\n",
    "            stone[i][j] = \"○\"\n",
    "        else:\n",
    "            stone[i][j] = \"X\"\n",
    "            \n",
    "for i in range(len(stone)):\n",
    "    for j in range(len(stone[i])):\n",
    "        print(stone[i][j], end = ' ')\n",
    "    print()"
   ]
  },
  {
   "cell_type": "code",
   "execution_count": 28,
   "metadata": {},
   "outputs": [
    {
     "name": "stdout",
     "output_type": "stream",
     "text": [
      "  1 2 3 4 5 6 7 8 9 \n",
      "1 0 0 0 0 0 0 0 0 0 \n",
      "2 0 1 0 1 2 1 2 1 0 \n",
      "3 0 2 1 1 1 2 2 0 0 \n",
      "4 0 0 2 2 2 1 0 2 0 \n",
      "5 0 0 0 0 0 1 0 2 1 \n",
      "6 0 0 0 2 0 1 2 1 0 \n",
      "7 0 0 0 2 1 0 1 1 0 \n",
      "8 0 0 0 1 1 0 0 0 0 \n",
      "9 0 0 0 0 2 2 2 0 0 \n"
     ]
    }
   ],
   "source": [
    "#8\n",
    "stone = [[0, 0, 0, 0, 0, 0, 0, 0, 0 ],\n",
    "         [0, 1, 0, 1, 2, 1, 2, 1, 0 ],\n",
    "         [0, 2, 1, 1, 1, 2, 2, 0, 0 ],\n",
    "         [0, 0, 2, 2, 2, 1, 0, 2, 0 ],\n",
    "         [0, 0, 0, 0, 0, 1, 0, 2, 1 ],\n",
    "         [0, 0, 0, 2, 0, 1, 2, 1, 0 ],\n",
    "         [0, 0, 0, 2, 1, 0, 1, 1, 0 ],\n",
    "         [0, 0, 0, 1, 1, 0, 0, 0, 0 ],\n",
    "         [0, 0, 0, 0, 2, 2, 2, 0, 0 ]]\n",
    "\n",
    "lista = [' ',1,2,3,4,5,6,7,8,9]\n",
    "lista2 = [1,2,3,4,5,6,7,8,9]\n",
    "\n",
    "for i in range(len(stone)):\n",
    "        stone[i].insert(0, lista2[i])\n",
    "\n",
    "stone.insert(0, lista)\n",
    "\n",
    "for i in range(len(stone)):\n",
    "    for j in range(len(stone[i])):\n",
    "        print(stone[i][j], end = ' ')\n",
    "    print()"
   ]
  },
  {
   "cell_type": "code",
   "execution_count": 29,
   "metadata": {},
   "outputs": [
    {
     "name": "stdout",
     "output_type": "stream",
     "text": [
      "X좌표값을 입력해주세요. (1~9, 종료시 -1입력) : 9\n",
      "Y좌표값을 입력해주세요. (1~9, 종료시 -1입력) : 5\n",
      "흑돌\n",
      "X좌표값을 입력해주세요. (1~9, 종료시 -1입력) : 7\n",
      "Y좌표값을 입력해주세요. (1~9, 종료시 -1입력) : 2\n",
      "백돌\n",
      "X좌표값을 입력해주세요. (1~9, 종료시 -1입력) : 4\n",
      "Y좌표값을 입력해주세요. (1~9, 종료시 -1입력) : 1\n",
      "돌 없음\n",
      "X좌표값을 입력해주세요. (1~9, 종료시 -1입력) : -1\n",
      "종료 되었습니다!\n"
     ]
    }
   ],
   "source": [
    "#9\n",
    "\n",
    "\n",
    "stone = [[0, 0, 0, 0, 0, 0, 0, 0, 0 ],\n",
    "         [0, 1, 0, 1, 2, 1, 2, 1, 0 ],\n",
    "         [0, 2, 1, 1, 1, 2, 2, 0, 0 ],\n",
    "         [0, 0, 2, 2, 2, 1, 0, 2, 0 ],\n",
    "         [0, 0, 0, 0, 0, 1, 0, 2, 1 ],\n",
    "         [0, 0, 0, 2, 0, 1, 2, 1, 0 ],\n",
    "         [0, 0, 0, 2, 1, 0, 1, 1, 0 ],\n",
    "         [0, 0, 0, 1, 1, 0, 0, 0, 0 ],\n",
    "         [0, 0, 0, 0, 2, 2, 2, 0, 0 ]]\n",
    "\n",
    "while True:\n",
    "    x = input('X좌표값을 입력해주세요. (1~9, 종료시 -1입력) : ')\n",
    "    if x == '-1' or x == '':\n",
    "        print('종료 되었습니다!')\n",
    "        break\n",
    "    y = input('Y좌표값을 입력해주세요. (1~9, 종료시 -1입력) : ')\n",
    "    if y == '-1' or y == '':\n",
    "        print('종료 되었습니다!')\n",
    "        break\n",
    "        \n",
    "    x = int(x)\n",
    "    y = int(y)\n",
    "    \n",
    "    if stone2[y][x] == \"●\":\n",
    "        print('흑돌')\n",
    "    elif stone2[y][x] == \"○\":\n",
    "        print('백돌')\n",
    "    else:\n",
    "        print('돌 없음')"
   ]
  }
 ],
 "metadata": {
  "kernelspec": {
   "display_name": "Python 3",
   "language": "python",
   "name": "python3"
  },
  "language_info": {
   "codemirror_mode": {
    "name": "ipython",
    "version": 3
   },
   "file_extension": ".py",
   "mimetype": "text/x-python",
   "name": "python",
   "nbconvert_exporter": "python",
   "pygments_lexer": "ipython3",
   "version": "3.7.6"
  }
 },
 "nbformat": 4,
 "nbformat_minor": 4
}
