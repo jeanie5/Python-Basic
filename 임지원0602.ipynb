{
 "cells": [
  {
   "cell_type": "markdown",
   "metadata": {},
   "source": [
    "# Chapter 6 연습문제 튜플과 딕셔너리"
   ]
  },
  {
   "cell_type": "code",
   "execution_count": 10,
   "metadata": {},
   "outputs": [
    {
     "name": "stdout",
     "output_type": "stream",
     "text": [
      "1. 아이디 : kim99, 마일리지 : 12000점\n",
      "2. 아이디 : lee66, 마일리지 : 11000점\n",
      "3. 아이디 : han55, 마일리지 : 3000점\n",
      "4. 아이디 : hong77, 마일리지 : 5000점\n",
      "5. 아이디 : hwang33, 마일리지 : 18000점\n"
     ]
    }
   ],
   "source": [
    "#1\n",
    "members = {'kim99':12000,'lee66':11000,'han55':3000,\\\n",
    "           'hong77':5000, 'hwang33':18000}\n",
    "i = 0\n",
    "for key in members :\n",
    "    i += 1\n",
    "    print('%d. 아이디 : %s, 마일리지 : %d점' % (i, key, members[key]))\n",
    "    "
   ]
  },
  {
   "cell_type": "code",
   "execution_count": 14,
   "metadata": {},
   "outputs": [
    {
     "name": "stdout",
     "output_type": "stream",
     "text": [
      "han55님의 마일리지가 5000점으로 수정 되었습니다.\n"
     ]
    }
   ],
   "source": [
    "#2\n",
    "#아이디 'han55'의 마일리지를 5000점으로 업데이트, 출력\n",
    "members = {'kim99':12000,'lee66':11000,'han55':3000,\\\n",
    "           'hong77':5000, 'hwang33':18000}\n",
    "\n",
    "members['han55'] = 5000\n",
    "\n",
    "print('han55님의 마일리지가 %d점으로 수정 되었습니다.'\\\n",
    "     % members['han55'])\n"
   ]
  },
  {
   "cell_type": "code",
   "execution_count": 24,
   "metadata": {},
   "outputs": [
    {
     "name": "stdout",
     "output_type": "stream",
     "text": [
      "{'kim99': 12000, 'lee66': 11000, 'han55': 3000, 'hong77': 5000, 'hwang33': 18000, 'jang88': '7000'}\n",
      "jang88님의 마일리지(7000점)가 추가 되었습니다.\n"
     ]
    }
   ],
   "source": [
    "#3\n",
    "#딕셔너리에 아이디 'jang88', 마일리지 7000점 추가\n",
    "#전체 딕셔너리와 추가된 데이터를 출력하는 프로그램\n",
    "members = {'kim99':12000,'lee66':11000,'han55':3000,\\\n",
    "           'hong77':5000, 'hwang33':18000}\n",
    "\n",
    "members['jang88'] = '7000'\n",
    "print(members)\n",
    "\n",
    "print('jang88님의 마일리지(%s점)가 추가 되었습니다.' % members['jang88'])\n"
   ]
  },
  {
   "cell_type": "code",
   "execution_count": 38,
   "metadata": {},
   "outputs": [
    {
     "name": "stdout",
     "output_type": "stream",
     "text": [
      "[('hwang33', 18000), ('kim99', 12000), ('lee66', 11000), ('hong77', 5000), ('han55', 3000)]\n"
     ]
    }
   ],
   "source": [
    "#4\n",
    "#딕셔너리에서 가장 높은 마일리지를 찾아 출력하는 프로그램\n",
    "members = {'kim99':12000,'lee66':11000,'han55':3000,\\\n",
    "           'hong77':5000, 'hwang33':18000}\n",
    "\n",
    "sorted(members, key= lambda x : members[x])\n",
    "print (sorted(members.items(), key=lambda x : x[1], reverse=True))"
   ]
  },
  {
   "cell_type": "code",
   "execution_count": 62,
   "metadata": {},
   "outputs": [
    {
     "name": "stdout",
     "output_type": "stream",
     "text": [
      "----------------------------------------------------------------------\n",
      "\n",
      "\n",
      "   월       화       수       목       금       토       일    \n",
      "\n",
      "----------------------------------------------------------------------\n",
      "  25.5     28.3     33.2     32.1     17.3     35.3     33.3   \n",
      "\n",
      "----------------------------------------------------------------------\n"
     ]
    }
   ],
   "source": [
    "#5\n",
    "sky = {'월':25.5,'화':28.3,'수':33.2,'목':32.1,'금':17.3,'토':35.3,'일':33.3}\n",
    "\n",
    "print('-'*70)\n",
    "print('\\n')\n",
    "for key in sky :\n",
    "    print('   %s    ' % key, end='')\n",
    "print('\\n')\n",
    "    \n",
    "print('-'*70)\n",
    "for key in sky :\n",
    "    print('  %.1f   ' % sky[key], end='')\n",
    "print('\\n')\n",
    "    \n",
    "print('-'*70)"
   ]
  },
  {
   "cell_type": "code",
   "execution_count": 70,
   "metadata": {},
   "outputs": [
    {
     "name": "stdout",
     "output_type": "stream",
     "text": [
      "[('금', 17.3), ('월', 25.5), ('화', 28.3), ('목', 32.1), ('수', 33.2), ('일', 33.3), ('토', 35.3)]\n",
      "가장 낮은 최고 기온 : 17.3\n"
     ]
    }
   ],
   "source": [
    "#6\n",
    "#딕셔너리에서 주중 가장 낮은 최고 기온을 찾아서 출력하는 프로그램\n",
    "sky = {'월':25.5,'화':28.3,'수':33.2,'목':32.1,'금':17.3,'토':35.3,'일':33.3}\n",
    "sorted(sky, key= lambda x : sky[x])\n",
    "print(sorted(sky.items(), key=lambda x : x[1]))\n",
    "print('가장 낮은 최고 기온 : %.1f' % sky['금'])"
   ]
  },
  {
   "cell_type": "code",
   "execution_count": 79,
   "metadata": {},
   "outputs": [
    {
     "name": "stdout",
     "output_type": "stream",
     "text": [
      "수목토일"
     ]
    }
   ],
   "source": [
    "#7\n",
    "#딕셔너리에서 주간 최고 기온이 30도 이상인 요일을 출력하는 프로그램\n",
    "sky = {'월':25.5,'화':28.3,'수':33.2,'목':32.1,'금':17.3,'토':35.3,'일':33.3}\n",
    "for key in sky :\n",
    "    if sky[key] >= 30 :\n",
    "        print(key , end ='')"
   ]
  },
  {
   "cell_type": "code",
   "execution_count": 84,
   "metadata": {},
   "outputs": [
    {
     "name": "stdout",
     "output_type": "stream",
     "text": [
      "일주일간 최고 기온의 평균 : 29.3\n"
     ]
    }
   ],
   "source": [
    "#8\n",
    "#딕셔너리에서 일주일간 최고 기온의 평균을 구하는 프로그램\n",
    "sky = {'월':25.5,'화':28.3,'수':33.2,'목':32.1,'금':17.3,'토':35.3,'일':33.3}\n",
    "sum = 0\n",
    "for key in sky :\n",
    "    sum += sky[key]\n",
    "    \n",
    "avg = sum/len(sky)\n",
    "\n",
    "print('일주일간 최고 기온의 평균 : %.1f' % avg)"
   ]
  },
  {
   "cell_type": "markdown",
   "metadata": {},
   "source": [
    "# Chapter 07. 연습문제 함수"
   ]
  },
  {
   "cell_type": "code",
   "execution_count": 86,
   "metadata": {},
   "outputs": [
    {
     "name": "stdout",
     "output_type": "stream",
     "text": [
      "2010\n"
     ]
    }
   ],
   "source": [
    "#1\n",
    "def f1(a) :\n",
    "    a += 10\n",
    "    print(a, end='')\n",
    "    \n",
    "a = 10\n",
    "f1(a)\n",
    "print(a)"
   ]
  },
  {
   "cell_type": "code",
   "execution_count": 90,
   "metadata": {},
   "outputs": [
    {
     "name": "stdout",
     "output_type": "stream",
     "text": [
      "300100300\n"
     ]
    }
   ],
   "source": [
    "#2\n",
    "def f2(a) :\n",
    "    global y \n",
    "    y += a\n",
    "    x = 500\n",
    "    print(y, end = '')\n",
    "    \n",
    "x = 100\n",
    "y = 200\n",
    "f2(x)\n",
    "print(x, end ='')\n",
    "print(y)"
   ]
  },
  {
   "cell_type": "code",
   "execution_count": 94,
   "metadata": {},
   "outputs": [
    {
     "name": "stdout",
     "output_type": "stream",
     "text": [
      "n값을 입력해 주세요 : 20\n",
      "2 3 5 7 11 13 17 19 "
     ]
    }
   ],
   "source": [
    "#3\n",
    "#소수를 구하는 프로그램\n",
    "a = int(input('n값을 입력해 주세요 : '))\n",
    "\n",
    "for i in range(2,a) :\n",
    "    chk = True\n",
    "    for j in range(2,i) :\n",
    "        if i%j ==0:\n",
    "            chk = False\n",
    "            break\n",
    "    if chk :\n",
    "        print(i, end=' ')"
   ]
  },
  {
   "cell_type": "code",
   "execution_count": 98,
   "metadata": {},
   "outputs": [
    {
     "name": "stdout",
     "output_type": "stream",
     "text": [
      "문자열을 입력하세요 : I am hungry.\n",
      ".yrgnuh ma I\n"
     ]
    }
   ],
   "source": [
    "#4\n",
    "#입력받은 문자열을 역순으로 출력하는 프로그램\n",
    "sentence = input('문자열을 입력하세요 : ')\n",
    "def f3(a) :\n",
    "    print(sentence[::-1])\n",
    "\n",
    "f3(x)"
   ]
  },
  {
   "cell_type": "code",
   "execution_count": 99,
   "metadata": {},
   "outputs": [
    {
     "name": "stdout",
     "output_type": "stream",
     "text": [
      "[1, 4, 9, 16, 25]\n"
     ]
    }
   ],
   "source": [
    "#5\n",
    "def numSquare(num) :\n",
    "    list_new = []\n",
    "    for i in range(1,num+1):\n",
    "        list_new.append(i**2)\n",
    "        \n",
    "    return list_new\n",
    "\n",
    "n = 5\n",
    "result = numSquare(n)\n",
    "print(result)"
   ]
  },
  {
   "cell_type": "code",
   "execution_count": 5,
   "metadata": {},
   "outputs": [
    {
     "name": "stdout",
     "output_type": "stream",
     "text": [
      "첫 번째 수를 입력하세요 : 8\n",
      "두 번째 수를 입력하세요 : 20\n",
      "두 수의 최소 공배수는 40 입니다.\n"
     ]
    }
   ],
   "source": [
    "#6\n",
    "a = int(input('첫 번째 수를 입력하세요 : '))\n",
    "b = int(input('두 번째 수를 입력하세요 : '))\n",
    "t_num = 0\n",
    "if a > b :\n",
    "    t_num = a\n",
    "else :\n",
    "    t_num = b\n",
    "\n",
    "while t_num:\n",
    "    if t_num % a == 0 and t_num % b == 0 :\n",
    "        print('두 수의 최소 공배수는 %d 입니다.' % t_num)\n",
    "        break\n",
    "    t_num += 1\n"
   ]
  },
  {
   "cell_type": "code",
   "execution_count": 1,
   "metadata": {},
   "outputs": [
    {
     "name": "stdout",
     "output_type": "stream",
     "text": [
      "※ 비밀번호는 10자리 이상, 영문 대문자를 포함하여야 합니다.\n",
      "비밀번호 : A123456789\n",
      "비밀번호 확인: A123456789\n",
      "유효한 비밀번호입니다~~~\n"
     ]
    }
   ],
   "source": [
    "#7\n",
    "#유효한 비밀번호를 만드는 프로그램의 실행결과\n",
    "def PasswordisValid(p) : \n",
    "   if len(p) < 10 : \n",
    "      return False \n",
    "\n",
    "   is_num = False \n",
    "   is_upper = False\n",
    "    \n",
    "\n",
    "   for ch in p : \n",
    "    \n",
    "    \n",
    "      if ch >= 'A' and ch <= 'Z' : \n",
    "         is_upper = True \n",
    "      if ch >= '0' and ch <= '9' : \n",
    "         is_num = True \n",
    "\n",
    "   return is_upper and is_num \n",
    "\n",
    "\n",
    "print('※ 비밀번호는 10자리 이상, 영문 대문자를 포함하여야 합니다.') \n",
    "\n",
    "\n",
    "password1 = input('비밀번호 : ') \n",
    "password2 = input('비밀번호 확인: ') \n",
    "\n",
    "\n",
    "while True :\n",
    "    if PasswordisValid(password1) and password1 == password2 :\n",
    "        break\n",
    "    else :\n",
    "        if not PasswordisValid(password1) :  \n",
    "            print('비밀번호가 잘못되었습니다! 다시 입력해 주세요')\n",
    "        else :  \n",
    "            print('비밀번호와 비밀번호 확인이 서로 다릅니다! 다시 입력해 주세요!')\n",
    "\n",
    "    password1 = input('비밀번호: ') \n",
    "    password2 = input('비밀번호 확인 : ') \n",
    "\n",
    "print('유효한 비밀번호입니다~~~')"
   ]
  },
  {
   "cell_type": "code",
   "execution_count": 1,
   "metadata": {},
   "outputs": [
    {
     "name": "stdout",
     "output_type": "stream",
     "text": [
      "[77, 36, 29, 11, 20, 6, 91, 33]\n",
      "[6, 11, 20, 29, 33, 36, 77, 91]\n"
     ]
    }
   ],
   "source": [
    "#8\n",
    "#리스트의 요소를 오름차순으로 정렬하는 프로그램 작성\n",
    "numbers = [77,36,29,11,20,6,91,33]\n",
    "def sel_sort(a):\n",
    "    n = len(a)\n",
    "    for i in range(0, n - 1):\n",
    "        max_idx = i\n",
    "        for j in range(i + 1, n):\n",
    "            if a[j] < a[max_idx]:\n",
    "                max_idx = j\n",
    "        a[i], a[max_idx] = a[max_idx], a[i]\n",
    "\n",
    "numbers = [77,36,29,11,20,6,91,33]\n",
    "print(numbers)\n",
    "sel_sort(numbers)\n",
    "print(numbers)"
   ]
  },
  {
   "cell_type": "code",
   "execution_count": null,
   "metadata": {},
   "outputs": [],
   "source": []
  }
 ],
 "metadata": {
  "kernelspec": {
   "display_name": "Python 3",
   "language": "python",
   "name": "python3"
  },
  "language_info": {
   "codemirror_mode": {
    "name": "ipython",
    "version": 3
   },
   "file_extension": ".py",
   "mimetype": "text/x-python",
   "name": "python",
   "nbconvert_exporter": "python",
   "pygments_lexer": "ipython3",
   "version": "3.7.6"
  }
 },
 "nbformat": 4,
 "nbformat_minor": 4
}
