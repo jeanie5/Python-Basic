{
 "cells": [
  {
   "cell_type": "markdown",
   "metadata": {},
   "source": [
    "# Chapter 03. 조건문"
   ]
  },
  {
   "cell_type": "code",
   "execution_count": 3,
   "metadata": {},
   "outputs": [
    {
     "name": "stdout",
     "output_type": "stream",
     "text": [
      "숫자를 입력하세요 : -6\n",
      "0 또는 음수!\n"
     ]
    }
   ],
   "source": [
    "# 예제 3-1\n",
    "x = int(input('숫자를 입력하세요 : '))\n",
    "\n",
    "if x > 0 :\n",
    "    print('양수!')\n",
    "else :\n",
    "    print('0 또는 음수!') "
   ]
  },
  {
   "cell_type": "code",
   "execution_count": 4,
   "metadata": {},
   "outputs": [
    {
     "name": "stdout",
     "output_type": "stream",
     "text": [
      "True\n",
      "True\n",
      "True\n",
      "True\n",
      "False\n",
      "False\n",
      "False\n"
     ]
    }
   ],
   "source": [
    "# 예제 3-2\n",
    "x = 10\n",
    "y = 3\n",
    "\n",
    "print(x > 9)\n",
    "print(y <=10)\n",
    "print(x+y ==13)\n",
    "print(x%2 ==0)\n",
    "print(y%2 ==0)\n",
    "print(x%4 ==0)\n",
    "print(y%3!= 0)\n"
   ]
  },
  {
   "cell_type": "code",
   "execution_count": 6,
   "metadata": {},
   "outputs": [
    {
     "name": "stdout",
     "output_type": "stream",
     "text": [
      "숫자를 입력하세요 : 24\n",
      "짝수이다.\n"
     ]
    }
   ],
   "source": [
    "# 예제 3-3\n",
    "num = int(input('숫자를 입력하세요 : '))\n",
    "\n",
    "if num % 2 == 0:\n",
    "    print('짝수이다.')\n",
    "else :\n",
    "    print('홀수이다.')\n"
   ]
  },
  {
   "cell_type": "code",
   "execution_count": 8,
   "metadata": {},
   "outputs": [
    {
     "name": "stdout",
     "output_type": "stream",
     "text": [
      "필기성적을 입력하세요 : 90\n",
      "실기성적을 입력하세요 : 85\n",
      "합격!\n"
     ]
    }
   ],
   "source": [
    "# 예제 3-4\n",
    "score1 = int(input('필기성적을 입력하세요 : '))\n",
    "score2 = int(input('실기성적을 입력하세요 : '))\n",
    "\n",
    "if score1 >=80 and score2 >= 80:\n",
    "    print('합격!')\n",
    "else :\n",
    "    print('불합격!')"
   ]
  },
  {
   "cell_type": "code",
   "execution_count": 11,
   "metadata": {},
   "outputs": [
    {
     "name": "stdout",
     "output_type": "stream",
     "text": [
      "아이디를 입력하세요 : jiwon\n",
      "회원 레벨을 입력하세요 : 1\n",
      "관리자이다.\n"
     ]
    }
   ],
   "source": [
    "# 예제 3-5\n",
    "id = input('아이디를 입력하세요 : ')\n",
    "level = int(input('회원 레벨을 입력하세요 : '))\n",
    "\n",
    "if id == 'admin' or level == 1:\n",
    "    print('관리자이다.')\n",
    "else :\n",
    "    print('관리자가 아니다.')"
   ]
  },
  {
   "cell_type": "code",
   "execution_count": 12,
   "metadata": {},
   "outputs": [
    {
     "name": "stdout",
     "output_type": "stream",
     "text": [
      "이름을 입력하세요 : 임지원\n",
      "이름 : 임지원\n"
     ]
    }
   ],
   "source": [
    "# 예제 3-6\n",
    "name = input('이름을 입력하세요 : ')\n",
    "\n",
    "if not name :\n",
    "    print('이름이 입력되지 않았다.')\n",
    "else :\n",
    "    print('이름 : %s' % name)"
   ]
  },
  {
   "cell_type": "code",
   "execution_count": 14,
   "metadata": {},
   "outputs": [
    {
     "name": "stdout",
     "output_type": "stream",
     "text": [
      "True\n",
      "False\n",
      "False\n",
      "True\n"
     ]
    }
   ],
   "source": [
    "# 예제 3-7\n",
    "print(True) if 15 else print(False)\n",
    "print(True) if 0 else print(False)\n",
    "print(True) if None else print(False)\n",
    "print(True) if '홍길동' else print(False)"
   ]
  },
  {
   "cell_type": "code",
   "execution_count": 16,
   "metadata": {},
   "outputs": [
    {
     "name": "stdout",
     "output_type": "stream",
     "text": [
      "나이를 입력하세요 : 25\n",
      "입장료 : 3000원\n"
     ]
    }
   ],
   "source": [
    "# 예제 3-8\n",
    "age = int(input('나이를 입력하세요 : '))\n",
    "pay = '3000원'\n",
    "\n",
    "if age >= 65 or age < 7 :\n",
    "    pay = '무료'\n",
    "    \n",
    "print('입장료 : %s' % pay)"
   ]
  },
  {
   "cell_type": "code",
   "execution_count": 17,
   "metadata": {},
   "outputs": [
    {
     "name": "stdout",
     "output_type": "stream",
     "text": [
      "비밀번호를 입력하세요 : 12345\n",
      "비밀번호 OK!\n"
     ]
    }
   ],
   "source": [
    "# 예제 3-9\n",
    "answer = '12345'\n",
    "password = input('비밀번호를 입력하세요 : ')\n",
    "\n",
    "if password == answer :\n",
    "    print('비밀번호 OK!')\n",
    "else :\n",
    "    print('비밀번호 Not OK!')"
   ]
  },
  {
   "cell_type": "code",
   "execution_count": 19,
   "metadata": {},
   "outputs": [
    {
     "name": "stdout",
     "output_type": "stream",
     "text": [
      "점수를 입력하세요 : 85\n",
      "성적 : 85점\n",
      "등급 : B\n"
     ]
    }
   ],
   "source": [
    "# 예제 3-10\n",
    "score = int(input('점수를 입력하세요 : '))\n",
    "\n",
    "if score >= 90 :\n",
    "    grade = 'A'\n",
    "elif score >= 80 :\n",
    "    grade = 'B'\n",
    "elif score >= 70 :\n",
    "    grade = 'C'\n",
    "elif score >= 60 :\n",
    "    grade = 'D'\n",
    "else :\n",
    "    grage = 'F'\n",
    "    \n",
    "#질문! 왜 elif를 사용하지 않으면 D로 뜰까?\n",
    "print('성적 : %d점' %score)\n",
    "print('등급 : %s' % grade)"
   ]
  },
  {
   "cell_type": "code",
   "execution_count": 22,
   "metadata": {},
   "outputs": [
    {
     "name": "stdout",
     "output_type": "stream",
     "text": [
      "월을 입력하세요 : 7\n",
      "7월은 여름입니다.\n"
     ]
    }
   ],
   "source": [
    "# Q3-1\n",
    "# 실행 결과\n",
    "# 월을 입력하세요 : 7\n",
    "# 7월은 여름입니다.\n",
    "\n",
    "month = int(input('월을 입력하세요 : '))\n",
    "\n",
    "if month >= 3 and month <= 5 :\n",
    "    print('%d월은 봄입니다.' % month)\n",
    "if month >= 6 and month <= 8 :\n",
    "    print('%d월은 여름입니다.' % month)\n",
    "if month >= 9 and month <= 11 :\n",
    "    print('%d월은 가을입니다.' % month)\n",
    "if month >= 12 and month <= 2 :\n",
    "    print('%d월은 겨울입니다.' % month)"
   ]
  },
  {
   "cell_type": "code",
   "execution_count": 1,
   "metadata": {},
   "outputs": [
    {
     "name": "stdout",
     "output_type": "stream",
     "text": [
      "좌석 종류를 입력해 주세요(1:일반실, 2:특실) :1\n",
      "일반실입니다\n"
     ]
    }
   ],
   "source": [
    "# Q3-2\n",
    "# 실행 결과\n",
    "# 좌석 종류를 입력해 주세요(1:일반실, 2:특실) : 1\n",
    "# 일반실입니다.\n",
    "\n",
    "a = input('좌석 종류를 입력해 주세요(1:일반실, 2:특실) :')\n",
    "\n",
    "seat1 = '일반실'\n",
    "seat2 = '특실'\n",
    "\n",
    "if a == '1' :\n",
    "    print('%s입니다' % seat1)\n",
    "if a == '2' :\n",
    "    print('%s입니다' % seat2)\n"
   ]
  },
  {
   "cell_type": "code",
   "execution_count": 2,
   "metadata": {},
   "outputs": [
    {
     "name": "stdout",
     "output_type": "stream",
     "text": [
      "숫자를 입력하세요 : 30\n",
      "30은(는) 5의 배수이다.\n"
     ]
    }
   ],
   "source": [
    "# Q3-3\n",
    "# 실행 결과\n",
    "# 숫자를 입력하세요 : 34\n",
    "# 34은(는) 4의 배수도 5의 배수도 아니다.\n",
    "\n",
    "num = int(input('숫자를 입력하세요 : '))\n",
    "result = '4의 배수도 5의 배수도 아니다.'\n",
    "\n",
    "if num % 4 == 0 :\n",
    "    result = '4의 배수이다.'\n",
    "if num % 5 == 0 :\n",
    "    result = '5의 배수이다.'\n",
    "if num % 4 == 0 and num % 5 == 0 :\n",
    "    result = '4의 배수이면서 5의 배수이다.'\n",
    "    \n",
    "print('%d은(는) %s' % (num, result))"
   ]
  },
  {
   "cell_type": "code",
   "execution_count": 5,
   "metadata": {},
   "outputs": [
    {
     "name": "stdout",
     "output_type": "stream",
     "text": [
      "영어 알파벳을 입력하세요 : b\n",
      "b은(는) 자음이다.\n"
     ]
    }
   ],
   "source": [
    "# Q3-4\n",
    "# 실행 결과\n",
    "# 영어 알파벳을 입력하세요 : w\n",
    "# w은(는) 자음이다.\n",
    "\n",
    "char = input('영어 알파벳을 입력하세요 : ')\n",
    "\n",
    "char2 = char.upper()\n",
    "\n",
    "if char2 == 'A' or char2 =='E' or char2 =='I' or char2 == 'O' or char2 == 'U' :\n",
    "    print('%s은(는) 모음이다.' % char)\n",
    "\n",
    "else :\n",
    "    print('%s은(는) 자음이다.' % char)"
   ]
  },
  {
   "cell_type": "code",
   "execution_count": 1,
   "metadata": {},
   "outputs": [
    {
     "name": "stdout",
     "output_type": "stream",
     "text": [
      "키를 입력해 주세요 : 175\n",
      "몸무게를 입력해 주세요 : 70\n",
      "------------------------------\n",
      "키 : 175cm\n",
      "몸무게 : 70kg\n",
      "딱 보기 좋습니다.\n",
      "------------------------------\n"
     ]
    }
   ],
   "source": [
    "# Q3-5\n",
    "# 실행 결과\n",
    "# 키를 입력해 주세요 : 175\n",
    "# 몸무게를 입력해 주세요 : 70\n",
    "# ---------------------------------\n",
    "# 키 : 175cm\n",
    "# 몸무게 : 70kg\n",
    "# 딱 보기 좋습니다.\n",
    "# ---------------------------------\n",
    "\n",
    "height = int(input('키를 입력해 주세요 : '))\n",
    "weight = int(input('몸무게를 입력해 주세요 : '))\n",
    "\n",
    "a = (height - 100) * 0.9;\n",
    "\n",
    "print('-' * 30)\n",
    "print('키 : %dcm' % height)\n",
    "print('몸무게 : %dkg' % weight)\n",
    "\n",
    "if weight > a :\n",
    "    print('딱 보기 좋습니다.')\n",
    "else :\n",
    "    print('표준(또는 마른) 체형입니다.')\n",
    "    \n",
    "    \n",
    "print('-' * 30)"
   ]
  },
  {
   "cell_type": "code",
   "execution_count": 3,
   "metadata": {},
   "outputs": [
    {
     "name": "stdout",
     "output_type": "stream",
     "text": [
      "물건 구매가를 입력하세요 : 60000\n",
      "구매가 : 60000원\n",
      "할인율: 7.5%\n",
      "할인 금액 : 4500원\n",
      "지불 금액 : 55500원\n"
     ]
    }
   ],
   "source": [
    "# Q3-6\n",
    "# 실행 결과\n",
    "# 물건 구매가를 입력하세요 : 60000\n",
    "# 구매가 : 60000원\n",
    "# 할인율 : 7.5%\n",
    "# 할인 금액 : 4500원\n",
    "# 지불 금액 : 55500원\n",
    "\n",
    "buy = int(input('물건 구매가를 입력하세요 : '))\n",
    "\n",
    "if buy >= 10000 and buy < 50000:\n",
    "    rate = 5\n",
    "elif buy >= 50000 and buy < 300000:\n",
    "    rate = 7.5\n",
    "elif buy >= 300000 :\n",
    "    rate = 10\n",
    "else :\n",
    "    rate = 0\n",
    "    \n",
    "discount =buy * rate / 100\n",
    "pay = buy-discount\n",
    "\n",
    "print('구매가 : %.0f원' % buy)\n",
    "print('할인율: %.1f%%' % rate)\n",
    "print('할인 금액 : %.0f원' % discount)\n",
    "print('지불 금액 : %.0f원' % pay)\n"
   ]
  },
  {
   "cell_type": "code",
   "execution_count": 5,
   "metadata": {},
   "outputs": [
    {
     "name": "stdout",
     "output_type": "stream",
     "text": [
      "첫 번째 정수를 입력하세요 : 34\n",
      "두 번째 정수를 입력하세요 : 33\n",
      "세 번째 정수를 입력하세요 : 27\n",
      "입력된 세 수 34, 33,27 중에서 가장 큰 수는 34 입니다.\n"
     ]
    }
   ],
   "source": [
    "# Q3-7\n",
    "# 실행 결과\n",
    "# 첫 번째 정수를 입력하세요 : 34\n",
    "# 두 번째 정수를 입력하세요 : 33\n",
    "# 세 번째 정수를 입력하세요 : 27\n",
    "# 입력된 세 수 34, 33, 27 중에 가장 큰 수는 34 입니다.\n",
    "\n",
    "num1 = int(input('첫 번째 정수를 입력하세요 : '))\n",
    "num2 = int(input('두 번째 정수를 입력하세요 : '))\n",
    "num3 = int(input('세 번째 정수를 입력하세요 : '))\n",
    "\n",
    "if (num1 >= num2) and (num1 >= num3) :\n",
    "    largest = num1\n",
    "elif (num2 >= num1) and (num2 >= num3) :\n",
    "    largest = num2\n",
    "elif (num3 >= num1) and (num3 >= num2) :\n",
    "    largest = num3\n",
    "    \n",
    "    \n",
    "    #질문! 마지막 else로 하면 실행 x... 이유가 뭘까\n",
    "print('입력된 세 수 %d, %d,%d 중에서 가장 큰 수는 %d 입니다.' % (num1, num2, num3, largest))"
   ]
  },
  {
   "cell_type": "code",
   "execution_count": 9,
   "metadata": {},
   "outputs": [
    {
     "name": "stdout",
     "output_type": "stream",
     "text": [
      "서비스 만족도 :\n",
      " 1: 매우만족\n",
      " 2: 만족\n",
      " 3: 불만족\n",
      "서비스 만족도를 입력해주세요(예: 1 또는 2 또는 3) : 1\n",
      "음식값을 입력해 주세요(예:8000) : 5000\n",
      "\n",
      "서비스 만족도 : 매우 만족, 팁 : 1000원\n"
     ]
    }
   ],
   "source": [
    "# Q3-8\n",
    "# 실행 결과\n",
    "# 서비스 만족도 :\n",
    "# 1:매우만족\n",
    "# 2:만족\n",
    "# 3:불만족\n",
    "# 서비스 만족도를 입력해주세요(예: 1 또는 2 또는 3) : 2\n",
    "# 음식값을 입력해 주세요(예:8000) : 9000\n",
    "# 서비스 만족도 : 만족, 팁 : 900원\n",
    "\n",
    "print('서비스 만족도 :')\n",
    "print(' 1: 매우만족')\n",
    "print(' 2: 만족')\n",
    "print(' 3: 불만족')\n",
    "a = input('서비스 만족도를 입력해주세요(예: 1 또는 2 또는 3) : ')\n",
    "\n",
    "price = int(input('음식값을 입력해 주세요(예:8000) : '))\n",
    "if a == '1' :\n",
    "    tip = int(price * 0.2)\n",
    "    service = '매우 만족'\n",
    "elif a == '2' :\n",
    "    tip = int(price * 0.1)\n",
    "    service = '만족'\n",
    "else :\n",
    "    tip = int(price * 0.05)\n",
    "    service = '불만족'\n",
    "    \n",
    "print()\n",
    "print('서비스 만족도 : %s, 팁 : %d원' %(service, tip))"
   ]
  },
  {
   "cell_type": "code",
   "execution_count": 2,
   "metadata": {},
   "outputs": [
    {
     "name": "stdout",
     "output_type": "stream",
     "text": [
      "현재년을 입력해 주세요 : 2020\n",
      "현재월을 입력해 주세요 : 5\n",
      "현재일을 입력해 주세요 : 29\n",
      "출생년을 입력해 주세요 : 1998\n",
      "출생월을 입력해 주세요 : 1\n",
      "출생일을 입력해 주세요 : 3\n",
      "--------------------------------------------------\n",
      "오늘 날짜 : 2020년 5월 29일\n",
      "todsus dnjfdlf : 1998년 1월 3일\n",
      "--------------------------------------------------\n",
      "만 나이 : 22세\n",
      "--------------------------------------------------\n"
     ]
    }
   ],
   "source": [
    "# 예제 3-11\n",
    "now_year = int(input('현재년을 입력해 주세요 : '))\n",
    "now_month = int(input('현재월을 입력해 주세요 : '))\n",
    "now_day = int(input('현재일을 입력해 주세요 : '))\n",
    "\n",
    "birth_year = int(input('출생년을 입력해 주세요 : '))\n",
    "birth_month = int(input('출생월을 입력해 주세요 : '))\n",
    "birth_day = int(input('출생일을 입력해 주세요 : '))\n",
    "\n",
    "if birth_month < now_month :\n",
    "    age = now_year - birth_year\n",
    "elif birth_month == now_month :\n",
    "    if birth_day < now_day :\n",
    "        age = now_year - birth_year\n",
    "    else :\n",
    "        age = now_year - birth_year -1\n",
    "else :\n",
    "    age = now_year - birth_year -1\n",
    "    \n",
    "print('-' * 50)\n",
    "print('오늘 날짜 : %d년 %d월 %d일' % (now_year, now_month, now_day))\n",
    "print('todsus dnjfdlf : %d년 %d월 %d일' % (birth_year, birth_month, birth_day))\n",
    "print('-' * 50)\n",
    "print('만 나이 : %d세' % age)\n",
    "print('-' * 50)"
   ]
  },
  {
   "cell_type": "code",
   "execution_count": null,
   "metadata": {},
   "outputs": [],
   "source": []
  }
 ],
 "metadata": {
  "kernelspec": {
   "display_name": "Python 3",
   "language": "python",
   "name": "python3"
  },
  "language_info": {
   "codemirror_mode": {
    "name": "ipython",
    "version": 3
   },
   "file_extension": ".py",
   "mimetype": "text/x-python",
   "name": "python",
   "nbconvert_exporter": "python",
   "pygments_lexer": "ipython3",
   "version": "3.7.6"
  }
 },
 "nbformat": 4,
 "nbformat_minor": 4
}
