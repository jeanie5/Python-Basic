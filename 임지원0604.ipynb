{
 "cells": [
  {
   "cell_type": "code",
   "execution_count": 1,
   "metadata": {},
   "outputs": [],
   "source": [
    "import numpy as np"
   ]
  },
  {
   "cell_type": "code",
   "execution_count": 2,
   "metadata": {},
   "outputs": [
    {
     "name": "stdout",
     "output_type": "stream",
     "text": [
      "[0 0 0 0 0 0 0 0 0 0]\n"
     ]
    }
   ],
   "source": [
    "#1 길이가 10인 0-벡터를 만드세요.\n",
    "zero_vector = np.zeros((10), dtype = np.int8)\n",
    "print(zero_vector)"
   ]
  },
  {
   "cell_type": "code",
   "execution_count": 5,
   "metadata": {},
   "outputs": [
    {
     "name": "stdout",
     "output_type": "stream",
     "text": [
      "[0 0 0 0 1 0 0 0 0 0]\n"
     ]
    }
   ],
   "source": [
    "#2 길이가 10이며 다섯번째 원소만 1이고 나머지 원소는 모두 0인 벡터를 만드세요\n",
    "element5 = np.zeros((10), dtype = np.int8)\n",
    "element5[4] = 1\n",
    "print(element5)"
   ]
  },
  {
   "cell_type": "code",
   "execution_count": 7,
   "metadata": {},
   "outputs": [
    {
     "name": "stdout",
     "output_type": "stream",
     "text": [
      "[10 11 12 13 14 15 16 17 18 19 20 21 22 23 24 25 26 27 28 29 30 31 32 33\n",
      " 34 35 36 37 38 39 40 41 42 43 44 45 46 47 48 49]\n"
     ]
    }
   ],
   "source": [
    "#3 10 부터 49까지의 값을 가지는 벡터를 만드세요.\n",
    "vector = np.arange(10,50)\n",
    "print(vector)"
   ]
  },
  {
   "cell_type": "code",
   "execution_count": 8,
   "metadata": {},
   "outputs": [
    {
     "name": "stdout",
     "output_type": "stream",
     "text": [
      "[49 48 47 46 45 44 43 42 41 40 39 38 37 36 35 34 33 32 31 30 29 28 27 26\n",
      " 25 24 23 22 21 20 19 18 17 16 15 14 13 12 11 10]\n"
     ]
    }
   ],
   "source": [
    "#4 위(3번) 벡터의 순서를 바꾸세요.\n",
    "reverse_vector = vector [::-1]\n",
    "print(reverse_vector)"
   ]
  },
  {
   "cell_type": "code",
   "execution_count": 9,
   "metadata": {},
   "outputs": [
    {
     "name": "stdout",
     "output_type": "stream",
     "text": [
      "[[0 1 2]\n",
      " [3 4 5]\n",
      " [6 7 8]]\n"
     ]
    }
   ],
   "source": [
    "#5 0부터 8까지의 값을 가지는 3x3 행렬을 만드세요.\n",
    "vector = np.arange(0,9).reshape(3,3)\n",
    "print(vector)"
   ]
  },
  {
   "cell_type": "code",
   "execution_count": 11,
   "metadata": {},
   "outputs": [
    {
     "name": "stdout",
     "output_type": "stream",
     "text": [
      "[1 2 4]\n"
     ]
    }
   ],
   "source": [
    "#6 벡터 [1,2,0,0,4,0] 에서 원소의 값이 0이 아닌 원소만 선택한 벡터를 만드세요.\n",
    "vector_1 = np.array([1,2,0,0,4,0], int)\n",
    "vector_2 = vector_1[vector_1 > 0]\n",
    "print(vector_2)"
   ]
  },
  {
   "cell_type": "code",
   "execution_count": 12,
   "metadata": {},
   "outputs": [
    {
     "name": "stdout",
     "output_type": "stream",
     "text": [
      "[[1. 0. 0.]\n",
      " [0. 1. 0.]\n",
      " [0. 0. 1.]]\n"
     ]
    }
   ],
   "source": [
    "#7 3x3 단위 행렬(identity matrix)을 만드세요\n",
    "vector = np.identity(3)\n",
    "print(vector)"
   ]
  },
  {
   "cell_type": "code",
   "execution_count": 15,
   "metadata": {},
   "outputs": [
    {
     "name": "stdout",
     "output_type": "stream",
     "text": [
      "[[6.88230627 2.03506249 9.55254578]\n",
      " [5.33972261 8.85227082 2.91099413]\n",
      " [1.36638662 4.57475015 3.09818978]]\n"
     ]
    }
   ],
   "source": [
    "#8 난수 원소를 가지는 3x3 행렬을 만드세요\n",
    "np.random.seed(seed = 1000)\n",
    "random = np.random.uniform(1,10,9).reshape(3,3)\n",
    "print(random)"
   ]
  },
  {
   "cell_type": "code",
   "execution_count": 23,
   "metadata": {},
   "outputs": [
    {
     "name": "stdout",
     "output_type": "stream",
     "text": [
      "9.552545779141221 1.366386622921802\n",
      "9.552545779141221 1.366386622921802\n"
     ]
    }
   ],
   "source": [
    "#9 위(8번)에서 만든 난수 행렬에서 최대값/최소값 원소를 찾으세요\n",
    "\n",
    "random1 = np.array(random).flatten()\n",
    "print(random1[np.argmax(random1)], random1[np.argmin(random1)])\n",
    "print(np.max(random), np.min(random))"
   ]
  },
  {
   "cell_type": "code",
   "execution_count": 18,
   "metadata": {},
   "outputs": [
    {
     "name": "stdout",
     "output_type": "stream",
     "text": [
      "[6.15663818 5.70099585 3.01310885]\n",
      "[4.52947183 5.15402782 5.18724323]\n"
     ]
    }
   ],
   "source": [
    "#10 위(8번)에서 만든 난수 행렬에서 행 평균, 열 평균을 계산하세요\n",
    "print(np.mean(random,axis = 1))\n",
    "print(np.mean(random,axis = 0))"
   ]
  },
  {
   "cell_type": "code",
   "execution_count": null,
   "metadata": {},
   "outputs": [],
   "source": []
  }
 ],
 "metadata": {
  "kernelspec": {
   "display_name": "Python 3",
   "language": "python",
   "name": "python3"
  },
  "language_info": {
   "codemirror_mode": {
    "name": "ipython",
    "version": 3
   },
   "file_extension": ".py",
   "mimetype": "text/x-python",
   "name": "python",
   "nbconvert_exporter": "python",
   "pygments_lexer": "ipython3",
   "version": "3.7.6"
  }
 },
 "nbformat": 4,
 "nbformat_minor": 4
}
