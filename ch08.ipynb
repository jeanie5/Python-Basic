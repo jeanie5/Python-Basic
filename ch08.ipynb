{
 "cells": [
  {
   "cell_type": "markdown",
   "metadata": {},
   "source": [
    "# Chapter 08. 모듈과 패키지"
   ]
  },
  {
   "cell_type": "code",
   "execution_count": 4,
   "metadata": {},
   "outputs": [
    {
     "name": "stdout",
     "output_type": "stream",
     "text": [
      "floor(7.7) : 7\n",
      "ceil(10.1) : 11\n",
      "5의 팩토리얼 : 120\n"
     ]
    }
   ],
   "source": [
    "# 예제 8-4\n",
    "import math\n",
    "\n",
    "print('floor(7.7) : %d' % math.floor(7.7))\n",
    "print('ceil(10.1) : %d' % math.ceil(10.1))\n",
    "print('5의 팩토리얼 : %d' % math.factorial(5))"
   ]
  },
  {
   "cell_type": "code",
   "execution_count": 5,
   "metadata": {},
   "outputs": [
    {
     "name": "stdout",
     "output_type": "stream",
     "text": [
      "0.4883552888282976\n",
      "0.4598177000747259\n",
      "0.8247951069026065\n"
     ]
    }
   ],
   "source": [
    "# 예제 8-6\n",
    "import random\n",
    "\n",
    "for i in range(3) :\n",
    "    print(random.random())"
   ]
  },
  {
   "cell_type": "code",
   "execution_count": 8,
   "metadata": {},
   "outputs": [
    {
     "name": "stdout",
     "output_type": "stream",
     "text": [
      "3\n",
      "1\n",
      "7\n",
      "1\n",
      "9\n"
     ]
    }
   ],
   "source": [
    "# 예제 8-7\n",
    "import random\n",
    "\n",
    "for i in range(5) :\n",
    "    print(random.randrange(1,11,2))"
   ]
  },
  {
   "cell_type": "code",
   "execution_count": 9,
   "metadata": {},
   "outputs": [
    {
     "name": "stdout",
     "output_type": "stream",
     "text": [
      "2\n",
      "2\n",
      "1\n",
      "1\n",
      "3\n"
     ]
    }
   ],
   "source": [
    "# 예제 8-8\n",
    "import random\n",
    "\n",
    "for i in range(5) :\n",
    "    print(random.randint(1,6))"
   ]
  },
  {
   "cell_type": "code",
   "execution_count": 10,
   "metadata": {},
   "outputs": [
    {
     "name": "stdout",
     "output_type": "stream",
     "text": [
      "가위\n",
      "보\n",
      "바위\n",
      "바위\n",
      "가위\n"
     ]
    }
   ],
   "source": [
    "# 예제 8-9\n",
    "import random\n",
    "\n",
    "toss = ['가위','바위','보']\n",
    "\n",
    "for i in range(5) :\n",
    "    print(random.choice(toss))"
   ]
  },
  {
   "cell_type": "code",
   "execution_count": 11,
   "metadata": {},
   "outputs": [
    {
     "name": "stdout",
     "output_type": "stream",
     "text": [
      "['오렌지', '바나나', '사과']\n",
      "['바나나', '사과', '오렌지']\n",
      "['바나나', '사과', '오렌지']\n"
     ]
    }
   ],
   "source": [
    "# 예제 8-10\n",
    "import random\n",
    "\n",
    "fruits = ['사과','바나나','오렌지']\n",
    "\n",
    "for i in range(3) :\n",
    "    random.shuffle(fruits)\n",
    "    print(fruits)"
   ]
  },
  {
   "cell_type": "code",
   "execution_count": null,
   "metadata": {},
   "outputs": [
    {
     "name": "stdout",
     "output_type": "stream",
     "text": [
      "------------------------------\n",
      "주사위 던지기 : 1번째\n",
      "나 : 3\n",
      "컴퓨터 : 1\n",
      "나의 승리!\n",
      "계속하려면 y를 입력하세요!y\n",
      "------------------------------\n",
      "주사위 던지기 : 2번째\n",
      "나 : 4\n",
      "컴퓨터 : 1\n",
      "나의 승리!\n",
      "계속하려면 y를 입력하세요!y\n",
      "------------------------------\n",
      "주사위 던지기 : 3번째\n",
      "나 : 3\n",
      "컴퓨터 : 1\n",
      "나의 승리!\n",
      "계속하려면 y를 입력하세요!y\n",
      "------------------------------\n",
      "주사위 던지기 : 4번째\n",
      "나 : 2\n",
      "컴퓨터 : 1\n",
      "나의 승리!\n",
      "계속하려면 y를 입력하세요!y\n",
      "------------------------------\n",
      "주사위 던지기 : 5번째\n",
      "나 : 5\n",
      "컴퓨터 : 4\n",
      "나의 승리!\n",
      "계속하려면 y를 입력하세요!y\n",
      "------------------------------\n",
      "주사위 던지기 : 6번째\n",
      "나 : 4\n",
      "컴퓨터 : 1\n",
      "나의 승리!\n",
      "계속하려면 y를 입력하세요!y\n",
      "------------------------------\n",
      "주사위 던지기 : 7번째\n",
      "나 : 2\n",
      "컴퓨터 : 4\n",
      "컴퓨터의 승리!\n"
     ]
    }
   ],
   "source": [
    "# 예제 8-11\n",
    "import random\n",
    "\n",
    "again = 'y'\n",
    "count = 1\n",
    "\n",
    "while again =='y' :\n",
    "    print('-'*30)\n",
    "    print('주사위 던지기 : %d번째' % count)\n",
    "    me = random.randint(1,6)\n",
    "    computer = random.randint(1,6)\n",
    "    print('나 : %d' % me)\n",
    "    print('컴퓨터 : %d' % computer)\n",
    "    \n",
    "    if me > computer :\n",
    "        print('나의 승리!')\n",
    "    elif me == computer :\n",
    "        print('무승부!')\n",
    "    else :\n",
    "        print('컴퓨터의 승리!')\n",
    "        \n",
    "    count = count + 1\n",
    "    again = input('계속하려면 y를 입력하세요!')"
   ]
  },
  {
   "cell_type": "code",
   "execution_count": null,
   "metadata": {},
   "outputs": [
    {
     "name": "stdout",
     "output_type": "stream",
     "text": [
      "==============================\n",
      "가위 바위 보 게임\n",
      "==============================\n",
      "나 : 가위\n",
      "당신 : 보\n",
      "나의 승리입니다!\n",
      "------------------------------\n",
      "계속하려면 y를 입력하세요!y\n",
      "\n",
      "나 : 가위\n",
      "당신 : 바위\n",
      "당신의 승리입니다!\n",
      "------------------------------\n",
      "계속하려면 y를 입력하세요!y\n",
      "\n",
      "나 : 바위\n",
      "당신 : 가위\n",
      "나의 승리입니다!\n",
      "------------------------------\n"
     ]
    }
   ],
   "source": [
    "# 예제 8-12\n",
    "import random\n",
    "\n",
    "def whoWin(x,y) :\n",
    "    if x == '가위' :\n",
    "        if y == '가위' :\n",
    "            msg = '무승부입니다!'\n",
    "        elif y == '바위' :\n",
    "            msg = '당신의 승리입니다!'\n",
    "        else :\n",
    "            msg = '나의 승리입니다!'\n",
    "    elif x == '바위' :\n",
    "        if y == '가위' :\n",
    "            msg = '나의 승리입니다!'\n",
    "        elif y == '바위' :\n",
    "            msg = '무승부입니다!'\n",
    "        else :\n",
    "            msg = '당신의 승리입니다!'\n",
    "    else :\n",
    "        if y == '가위' :\n",
    "            msg = '당신의 승리입니다!'\n",
    "        elif y == '바위' :\n",
    "            msg = '나의 승리입니다!'\n",
    "        else :\n",
    "            msg = '무승부입니다!'\n",
    "            \n",
    "    return msg\n",
    "\n",
    "print('='*30)\n",
    "print('가위 바위 보 게임')\n",
    "print('='*30)\n",
    "\n",
    "gawibawibo = ['가위','바위','보']\n",
    "again = 'y'\n",
    "\n",
    "while again == 'y' :\n",
    "    me = random.choice(gawibawibo)\n",
    "    you = random.choice(gawibawibo)\n",
    "    \n",
    "    result = whoWin(me,you)\n",
    "    \n",
    "    print('나 : %s' % me)\n",
    "    print('당신 : %s' % you)\n",
    "    print(result)\n",
    "    print('-'*30)\n",
    "    \n",
    "    again = input('계속하려면 y를 입력하세요!')\n",
    "    print()"
   ]
  },
  {
   "cell_type": "code",
   "execution_count": 1,
   "metadata": {},
   "outputs": [
    {
     "name": "stdout",
     "output_type": "stream",
     "text": [
      "년 : 2020\n",
      "월 : 6\n",
      "일 : 3\n",
      "시 : 9\n",
      "분 : 53\n",
      "초 : 40\n",
      "2020/06/03 09:53:40\n",
      "20-06-03 AM 09:53\n"
     ]
    }
   ],
   "source": [
    "# 예제 8-13\n",
    "from datetime import datetime\n",
    "\n",
    "today = datetime.now()\n",
    "\n",
    "print('년 : %s' % today.year)\n",
    "print('월 : %s' % today.month)\n",
    "print('일 : %s' % today.day)\n",
    "print('시 : %s' % today.hour)\n",
    "print('분 : %s' % today.minute)\n",
    "print('초 : %s' % today.second)\n",
    "\n",
    "print(today.strftime('%Y/%m/%d %H:%M:%S'))\n",
    "print(today.strftime('%y-%m-%d %p %I:%M'))"
   ]
  },
  {
   "cell_type": "code",
   "execution_count": null,
   "metadata": {},
   "outputs": [],
   "source": []
  }
 ],
 "metadata": {
  "kernelspec": {
   "display_name": "Python 3",
   "language": "python",
   "name": "python3"
  },
  "language_info": {
   "codemirror_mode": {
    "name": "ipython",
    "version": 3
   },
   "file_extension": ".py",
   "mimetype": "text/x-python",
   "name": "python",
   "nbconvert_exporter": "python",
   "pygments_lexer": "ipython3",
   "version": "3.7.6"
  }
 },
 "nbformat": 4,
 "nbformat_minor": 4
}
