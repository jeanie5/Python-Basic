{
 "cells": [
  {
   "cell_type": "markdown",
   "metadata": {},
   "source": [
    "# 그래프 여러개 그리기"
   ]
  },
  {
   "cell_type": "code",
   "execution_count": 1,
   "metadata": {},
   "outputs": [],
   "source": [
    "import matplotlib as mpl\n",
    "import matplotlib.pyplot as plt\n",
    "mpl.rcParams['axes.unicode_minus'] = False\n",
    "mpl.rc('font',family='Malgun Gothic')\n",
    "%matplotlib inline"
   ]
  },
  {
   "cell_type": "code",
   "execution_count": 4,
   "metadata": {},
   "outputs": [
    {
     "data": {
      "image/png": "[encoded data removed]",
      "text/plain": [
       "<Figure size 648x216 with 2 Axes>"
      ]
     },
     "metadata": {
      "needs_background": "light"
     },
     "output_type": "display_data"
    }
   ],
   "source": [
    "x = ['월','화','수','목','금','토','일']\n",
    "y1 = [6.5,5.7,5.5,6.7,6.3,7.5,8.3]\n",
    "y2 = [6.3,7.7,7.5,7.7,6.2,7.3,8.5]\n",
    "\n",
    "fig,axs = plt.subplots(nrows=1, ncols=2, figsize=(9,3), sharex=True, sharey=True)\n",
    "ax = axs[0]\n",
    "ax.scatter(x,y1)\n",
    "ax.set_title('2018')\n",
    "\n",
    "ax = axs[1]\n",
    "ax.scatter(x,y2)\n",
    "ax.set_title('2019')\n",
    "\n",
    "fig.suptitle('연간 요일별 평균 수면시간')\n",
    "\n",
    "plt.show()"
   ]
  },
  {
   "cell_type": "code",
   "execution_count": null,
   "metadata": {},
   "outputs": [],
   "source": []
  }
 ],
 "metadata": {
  "kernelspec": {
   "display_name": "Python 3",
   "language": "python",
   "name": "python3"
  },
  "language_info": {
   "codemirror_mode": {
    "name": "ipython",
    "version": 3
   },
   "file_extension": ".py",
   "mimetype": "text/x-python",
   "name": "python",
   "nbconvert_exporter": "python",
   "pygments_lexer": "ipython3",
   "version": "3.7.6"
  }
 },
 "nbformat": 4,
 "nbformat_minor": 4
}
